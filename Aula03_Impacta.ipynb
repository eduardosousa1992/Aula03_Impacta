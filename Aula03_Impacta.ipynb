{
  "nbformat": 4,
  "nbformat_minor": 0,
  "metadata": {
    "colab": {
      "name": "Aula03_Impacta.ipynb",
      "private_outputs": true,
      "provenance": [],
      "authorship_tag": "ABX9TyMeehK9cAaTWP6msLgG1SoE",
      "include_colab_link": true
    },
    "kernelspec": {
      "name": "python3",
      "display_name": "Python 3"
    },
    "language_info": {
      "name": "python"
    }
  },
  "cells": [
    {
      "cell_type": "markdown",
      "metadata": {
        "id": "view-in-github",
        "colab_type": "text"
      },
      "source": [
        "<a href=\"https://colab.research.google.com/github/eduardosousa1992/Aula03_Impacta/blob/main/Aula03_Impacta.ipynb\" target=\"_parent\"><img src=\"https://colab.research.google.com/assets/colab-badge.svg\" alt=\"Open In Colab\"/></a>"
      ]
    },
    {
      "cell_type": "markdown",
      "metadata": {
        "id": "z6O5CYfDi9w9"
      },
      "source": [
        "#EXERCÍCIOS \n",
        "#Leitura e escrita"
      ]
    },
    {
      "cell_type": "markdown",
      "metadata": {
        "id": "7LnXMY8qjHCj"
      },
      "source": [
        "#Questão 02 : Pergunte o nome da pessoa e atribua na vaíavel nome."
      ]
    },
    {
      "cell_type": "code",
      "metadata": {
        "id": "TlH78XMOi1yB"
      },
      "source": [
        "nome = input (\"Qual seu nome?: \")\n",
        "print(\"Muito bem vindo(a),\"+nome)"
      ],
      "execution_count": null,
      "outputs": []
    },
    {
      "cell_type": "markdown",
      "metadata": {
        "id": "HzyCtfHfkU_X"
      },
      "source": [
        "#Questão 02 : Pergunte a altura em (metros) e atribua na varíavel alt. Não esqueça de que a varíavel deve ser do tipo float. "
      ]
    },
    {
      "cell_type": "code",
      "metadata": {
        "id": "7wpSaDJgkLtx"
      },
      "source": [
        "altura =float(input(\"Qual sua altura em metros? \"))\n",
        "print(altura)\n",
        "type(altura)"
      ],
      "execution_count": null,
      "outputs": []
    },
    {
      "cell_type": "markdown",
      "metadata": {
        "id": "mBoQNhOnm7UP"
      },
      "source": [
        "#Questão 03 : Pergunte o peso em (Quilos) e atribua na varíavel kg. Não esqueça que a varíavel deve ser do tipo float. "
      ]
    },
    {
      "cell_type": "code",
      "metadata": {
        "id": "ah1_3Ki7moiQ"
      },
      "source": [
        "KG =float(input(\"Qual seu peso em Quilos ? \"))\n",
        "print(KG)\n",
        "type(KG)"
      ],
      "execution_count": null,
      "outputs": []
    },
    {
      "cell_type": "markdown",
      "metadata": {
        "id": "iDC-TW9In5qB"
      },
      "source": [
        "#Questão 04 : Calcule o IMC através da formula IMC = PESO/(ALT*ALT)"
      ]
    },
    {
      "cell_type": "code",
      "metadata": {
        "id": "NInPRuq5nk1y"
      },
      "source": [
        "import os\n",
        "nome_01 = input (\"Qual seu nome?: \")\n",
        "altura_01 = float(input(\"Digite sua altura em metros: \"))\n",
        "peso = float(input(\"Digite seu peso em Kg: \"))\n",
        " \n",
        "imc = peso / altura_01**2\n",
        " \n",
        "print (f\"oi {nome_01}, Seu IMC é {imc}\")\n",
        "\n",
        "if imc < 16:\n",
        "\tprint(\"Magreza grave\")\n",
        "elif imc < 17:\n",
        "\tprint(\"Magreza moderada\")\n",
        "elif imc < 18.5:\n",
        "\tprint(\"Magreza leve\")\n",
        "elif imc < 25:\n",
        "\tprint(\"Saudável\")\n",
        "elif imc < 30:\n",
        "\tprint(\"Sobrepeso\")\n",
        "elif imc < 35:\n",
        "\tprint(\"Obesidade Grau I\")\n",
        "elif imc < 40:\n",
        "\tprint(\"Obesidade Grau II (severa)\")\n",
        "else:\n",
        "\tprint(\"Obesidade Grau III (mórbida)\")\n",
        " \n",
        "os.system(\"pause\")"
      ],
      "execution_count": null,
      "outputs": []
    },
    {
      "cell_type": "code",
      "metadata": {
        "id": "HE5NhViPpMZp"
      },
      "source": [
        ""
      ],
      "execution_count": null,
      "outputs": []
    }
  ]
}